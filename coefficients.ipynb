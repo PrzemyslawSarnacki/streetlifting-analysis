{
  "nbformat": 4,
  "nbformat_minor": 0,
  "metadata": {
    "colab": {
      "name": "coefficients.ipynb",
      "provenance": [],
      "authorship_tag": "ABX9TyOMmO3T2wVkrPBXHTuu7+gV",
      "include_colab_link": true
    },
    "kernelspec": {
      "name": "python3",
      "display_name": "Python 3"
    },
    "language_info": {
      "name": "python"
    }
  },
  "cells": [
    {
      "cell_type": "markdown",
      "metadata": {
        "id": "view-in-github",
        "colab_type": "text"
      },
      "source": [
        "<a href=\"https://colab.research.google.com/github/PrzemyslawSarnacki/streetlifting-analysis/blob/main/coefficients.ipynb\" target=\"_parent\"><img src=\"https://colab.research.google.com/assets/colab-badge.svg\" alt=\"Open In Colab\"/></a>"
      ]
    },
    {
      "cell_type": "markdown",
      "source": [
        "<a href=\"https://colab.research.google.com/github/PrzemyslawSarnacki/streetlifting-analysis/blob/main/coefficients.ipynb\" target=\"_parent\">\n",
        "  <img src=\"https://colab.research.google.com/assets/colab-badge.svg\" alt=\"Open In Colab\"/>\n",
        "</a> "
      ],
      "metadata": {
        "id": "RNPMxZTWcEIt"
      }
    },
    {
      "cell_type": "code",
      "source": [
        "import math\n",
        "\n",
        "# calculate allometric scaling score \n",
        "def calculate_as(bodyweight, weight_lifted):\n",
        "  return weight_lifted * bodyweight ** (-2/3)\n",
        "\n",
        "def calculate_wilks(bodyweight, weight_lifted):\n",
        "  result = weight_lifted*500/ (-216.0475144 + bodyweight*16.2606339 + bodyweight ** 2 *-0.002388645 + bodyweight ** 3 * -0.00113732 + bodyweight ** 4 * 7.01863E-06 + bodyweight ** 5 * -1.291E-08)\n",
        "  return result\n",
        "\n",
        "def calculate_isf(bodyweight, weight_lifted):\n",
        "  a = 799.81893\n",
        "  b = 681.45441\n",
        "  c = 0.00614\n",
        "  extra_points = 0\n",
        "  if bodyweight > 95:\n",
        "    extra_points = (bodyweight - 95) *0.5\n",
        "  return (100/(a - b * math.exp(-c * bodyweight))) * weight_lifted + extra_points\n",
        "\n",
        "def calculate_ipf(bodyweight, weight_lifted):\n",
        " a = 1199.72839 \n",
        " b = 1025.18162 \n",
        " c = 0.00921\n",
        " result = (100/(a - b * math.exp(-c * bodyweight))) * weight_lifted\n",
        " return result\n"
      ],
      "metadata": {
        "id": "jYYDYczZcM9D"
      },
      "execution_count": 34,
      "outputs": []
    },
    {
      "cell_type": "code",
      "source": [
        "def find_weight_lifted(score, bodyweight):\n",
        " return score / bodyweight ** (- 2/3)"
      ],
      "metadata": {
        "id": "FHLeH74Hm5pT"
      },
      "execution_count": 35,
      "outputs": []
    },
    {
      "cell_type": "code",
      "source": [
        "find_weight_lifted(54.14, 123)"
      ],
      "metadata": {
        "colab": {
          "base_uri": "https://localhost:8080/"
        },
        "id": "7A-Ypj4RoIWs",
        "outputId": "1984e970-747d-43cb-df50-20392a78e9f1"
      },
      "execution_count": 36,
      "outputs": [
        {
          "output_type": "execute_result",
          "data": {
            "text/plain": [
              "1339.023890753689"
            ]
          },
          "metadata": {},
          "execution_count": 36
        }
      ]
    },
    {
      "cell_type": "code",
      "source": [
        "import pandas as pd\n",
        "\n",
        "wilks = []\n",
        "ipf  = []\n",
        "isf = []\n",
        "bodyweight = []\n",
        "rows = []\n",
        "for b in range(50, 120):\n",
        "  isf = (calculate_isf(b, find_weight_lifted(54.14, b)))\n",
        "  ipf = (calculate_ipf(b, find_weight_lifted(54.14, b)))\n",
        "  wilks = (calculate_wilks(b, find_weight_lifted(54.14, b)))\n",
        "\n",
        "  rows.append([b, wilks, isf, ipf])\n",
        "\n",
        "\n",
        "\n",
        "df = pd.DataFrame(rows, columns=[\"bodyweight\", \"wilks\", \"isf\", \"ipf\"])\n"
      ],
      "metadata": {
        "id": "PB62V0jRpKlF"
      },
      "execution_count": 37,
      "outputs": []
    },
    {
      "cell_type": "code",
      "source": [
        "import seaborn as sns\n",
        "sns.set(\"notebook\", style='ticks', font_scale=1.0)\n",
        "import matplotlib as mpl\n",
        "import matplotlib.pyplot as plt\n",
        "\n",
        "sns.set_style('darkgrid', {'axes.facecolor': '.9'})\n",
        "sns.set_palette(palette='deep')\n",
        "sns_c = sns.color_palette(palette='deep')\n",
        "%matplotlib inline\n",
        "\n",
        "from pandas.plotting import register_matplotlib_converters\n",
        "register_matplotlib_converters()\n",
        "\n",
        "sns.lineplot(\n",
        "    data=df,\n",
        "    x=\"bodyweight\", y=\"wilks\", markers=True, dashes=False\n",
        ")\n",
        "\n"
      ],
      "metadata": {
        "colab": {
          "base_uri": "https://localhost:8080/",
          "height": 302
        },
        "id": "Q8OTuPm4ox7M",
        "outputId": "8d78c515-3028-48e7-c7e5-c32472a14ac7"
      },
      "execution_count": 38,
      "outputs": [
        {
          "output_type": "execute_result",
          "data": {
            "text/plain": [
              "<matplotlib.axes._subplots.AxesSubplot at 0x7fb1c45a3a10>"
            ]
          },
          "metadata": {},
          "execution_count": 38
        },
        {
          "output_type": "display_data",
          "data": {
            "text/plain": [
              "<Figure size 432x288 with 1 Axes>"
            ],
            "image/png": "[encoded data removed]"
          },
          "metadata": {
            "needs_background": "light"
          }
        }
      ]
    },
    {
      "cell_type": "code",
      "source": [
        "sns.lineplot(\n",
        "    data=df,\n",
        "    x=\"bodyweight\", y=\"ipf\", markers=True, dashes=False\n",
        ")\n"
      ],
      "metadata": {
        "colab": {
          "base_uri": "https://localhost:8080/",
          "height": 302
        },
        "id": "5z1sngPW2suT",
        "outputId": "6e177941-5f88-40e9-e139-a0fe4e47f3f0"
      },
      "execution_count": 39,
      "outputs": [
        {
          "output_type": "execute_result",
          "data": {
            "text/plain": [
              "<matplotlib.axes._subplots.AxesSubplot at 0x7fb1c4773310>"
            ]
          },
          "metadata": {},
          "execution_count": 39
        },
        {
          "output_type": "display_data",
          "data": {
            "text/plain": [
              "<Figure size 432x288 with 1 Axes>"
            ],
            "image/png": "[encoded data removed]"
          },
          "metadata": {
            "needs_background": "light"
          }
        }
      ]
    },
    {
      "cell_type": "code",
      "source": [
        "sns.lineplot(\n",
        "    data=df,\n",
        "    x=\"bodyweight\", y=\"isf\", markers=True, dashes=False\n",
        ")"
      ],
      "metadata": {
        "colab": {
          "base_uri": "https://localhost:8080/",
          "height": 302
        },
        "id": "HojfOYPg2v6t",
        "outputId": "1da8dbff-fd23-46dd-e707-f807c1b37296"
      },
      "execution_count": 40,
      "outputs": [
        {
          "output_type": "execute_result",
          "data": {
            "text/plain": [
              "<matplotlib.axes._subplots.AxesSubplot at 0x7fb1c44ebf50>"
            ]
          },
          "metadata": {},
          "execution_count": 40
        },
        {
          "output_type": "display_data",
          "data": {
            "text/plain": [
              "<Figure size 432x288 with 1 Axes>"
            ],
            "image/png": "[encoded data removed]"
          },
          "metadata": {
            "needs_background": "light"
          }
        }
      ]
    },
    {
      "cell_type": "code",
      "source": [
        "data = {'bodyweight':[68.5, 80.1, 86.9, 100.2],'total':[160+90+120, 170+90+142.5, 210+70+145, 235+60+122.5],'total-sq':[90+120, 90+142.5, 70+145, 60+122.5], 'total+bw':[160+90+120+68.5*2, 170+90+142.5+80.1*2, 210+70+145+86.9*2, 235+60+122.5+100.2*2] }  \n",
        "\n",
        "\n",
        "best_glogau = pd.DataFrame(data)"
      ],
      "metadata": {
        "id": "48HwAe2X8u43"
      },
      "execution_count": 41,
      "outputs": []
    },
    {
      "cell_type": "code",
      "source": [
        "best_glogau['wilks'] = best_glogau.apply(lambda row: calculate_wilks(row['bodyweight'], row['total']), axis=1)\n",
        "best_glogau['isf'] = best_glogau.apply(lambda row: calculate_isf(row['bodyweight'], row['total']), axis=1)\n",
        "best_glogau['ipf'] = best_glogau.apply(lambda row: calculate_ipf(row['bodyweight'], row['total']), axis=1)\n",
        "best_glogau['as'] = best_glogau.apply(lambda row: calculate_as(row['bodyweight'], row['total']), axis=1)\n",
        "best_glogau['wilks+bw'] = best_glogau.apply(lambda row: calculate_wilks(row['bodyweight'], row['total+bw']), axis=1)\n",
        "best_glogau['isf+bw'] = best_glogau.apply(lambda row: calculate_isf(row['bodyweight'], row['total+bw']), axis=1)\n",
        "best_glogau['ipf+bw'] = best_glogau.apply(lambda row: calculate_ipf(row['bodyweight'], row['total+bw']), axis=1)\n",
        "best_glogau['as+bw'] = best_glogau.apply(lambda row: calculate_as(row['bodyweight'], row['total+bw']), axis=1)\n",
        "best_glogau['wilks-sq'] = best_glogau.apply(lambda row: calculate_wilks(row['bodyweight'], row['total-sq']), axis=1)\n",
        "best_glogau['isf-sq'] = best_glogau.apply(lambda row: calculate_isf(row['bodyweight'], row['total-sq']), axis=1)\n",
        "best_glogau['ipf-sq'] = best_glogau.apply(lambda row: calculate_ipf(row['bodyweight'], row['total-sq']), axis=1)\n",
        "best_glogau['as-sq'] = best_glogau.apply(lambda row: calculate_as(row['bodyweight'], row['total-sq']), axis=1)\n",
        "\n",
        "\n",
        "best_glogau"
      ],
      "metadata": {
        "id": "dtGAS-67QXu2",
        "outputId": "b8f6eff1-fa6e-4a7a-8e7a-c4e5ace4abce",
        "colab": {
          "base_uri": "https://localhost:8080/",
          "height": 175
        }
      },
      "execution_count": 42,
      "outputs": [
        {
          "output_type": "execute_result",
          "data": {
            "text/plain": [
              "   bodyweight  total  total-sq  total+bw       wilks         isf        ipf  \\\n",
              "0        68.5  370.0     210.0     507.0  281.968589  105.013524  56.556931   \n",
              "1        80.1  402.5     232.5     562.7  274.570058  105.064339  56.731373   \n",
              "2        86.9  425.0     215.0     598.8  276.373407  106.213017  57.491063   \n",
              "3       100.2  417.5     182.5     617.9  253.883681   99.359810  52.692461   \n",
              "\n",
              "          as    wilks+bw      isf+bw     ipf+bw      as+bw    wilks-sq  \\\n",
              "0  22.100801  386.373174  143.896910  77.498280  30.284070  160.036226   \n",
              "1  21.660952  383.852352  146.881251  79.311164  30.282280  158.602580   \n",
              "2  21.662525  389.393874  149.647893  81.001526  30.521224  139.812430   \n",
              "3  19.352838  375.747848  145.804519  77.984843  28.642201  110.979094   \n",
              "\n",
              "      isf-sq     ipf-sq      as-sq  \n",
              "0  59.602271  32.099879  12.543698  \n",
              "1  60.689339  32.770296  12.512227  \n",
              "2  53.731291  29.083714  10.958689  \n",
              "3  44.896204  23.033232   8.459624  "
            ],
            "text/html": [
              "\n",
              "  <div id=\"df-e255a8ff-0800-4e49-b0b8-1671cb2dcd87\">\n",
              "    <div class=\"colab-df-container\">\n",
              "      <div>\n",
              "<style scoped>\n",
              "    .dataframe tbody tr th:only-of-type {\n",
              "        vertical-align: middle;\n",
              "    }\n",
              "\n",
              "    .dataframe tbody tr th {\n",
              "        vertical-align: top;\n",
              "    }\n",
              "\n",
              "    .dataframe thead th {\n",
              "        text-align: right;\n",
              "    }\n",
              "</style>\n",
              "<table border=\"1\" class=\"dataframe\">\n",
              "  <thead>\n",
              "    <tr style=\"text-align: right;\">\n",
              "      <th></th>\n",
              "      <th>bodyweight</th>\n",
              "      <th>total</th>\n",
              "      <th>total-sq</th>\n",
              "      <th>total+bw</th>\n",
              "      <th>wilks</th>\n",
              "      <th>isf</th>\n",
              "      <th>ipf</th>\n",
              "      <th>as</th>\n",
              "      <th>wilks+bw</th>\n",
              "      <th>isf+bw</th>\n",
              "      <th>ipf+bw</th>\n",
              "      <th>as+bw</th>\n",
              "      <th>wilks-sq</th>\n",
              "      <th>isf-sq</th>\n",
              "      <th>ipf-sq</th>\n",
              "      <th>as-sq</th>\n",
              "    </tr>\n",
              "  </thead>\n",
              "  <tbody>\n",
              "    <tr>\n",
              "      <th>0</th>\n",
              "      <td>68.5</td>\n",
              "      <td>370.0</td>\n",
              "      <td>210.0</td>\n",
              "      <td>507.0</td>\n",
              "      <td>281.968589</td>\n",
              "      <td>105.013524</td>\n",
              "      <td>56.556931</td>\n",
              "      <td>22.100801</td>\n",
              "      <td>386.373174</td>\n",
              "      <td>143.896910</td>\n",
              "      <td>77.498280</td>\n",
              "      <td>30.284070</td>\n",
              "      <td>160.036226</td>\n",
              "      <td>59.602271</td>\n",
              "      <td>32.099879</td>\n",
              "      <td>12.543698</td>\n",
              "    </tr>\n",
              "    <tr>\n",
              "      <th>1</th>\n",
              "      <td>80.1</td>\n",
              "      <td>402.5</td>\n",
              "      <td>232.5</td>\n",
              "      <td>562.7</td>\n",
              "      <td>274.570058</td>\n",
              "      <td>105.064339</td>\n",
              "      <td>56.731373</td>\n",
              "      <td>21.660952</td>\n",
              "      <td>383.852352</td>\n",
              "      <td>146.881251</td>\n",
              "      <td>79.311164</td>\n",
              "      <td>30.282280</td>\n",
              "      <td>158.602580</td>\n",
              "      <td>60.689339</td>\n",
              "      <td>32.770296</td>\n",
              "      <td>12.512227</td>\n",
              "    </tr>\n",
              "    <tr>\n",
              "      <th>2</th>\n",
              "      <td>86.9</td>\n",
              "      <td>425.0</td>\n",
              "      <td>215.0</td>\n",
              "      <td>598.8</td>\n",
              "      <td>276.373407</td>\n",
              "      <td>106.213017</td>\n",
              "      <td>57.491063</td>\n",
              "      <td>21.662525</td>\n",
              "      <td>389.393874</td>\n",
              "      <td>149.647893</td>\n",
              "      <td>81.001526</td>\n",
              "      <td>30.521224</td>\n",
              "      <td>139.812430</td>\n",
              "      <td>53.731291</td>\n",
              "      <td>29.083714</td>\n",
              "      <td>10.958689</td>\n",
              "    </tr>\n",
              "    <tr>\n",
              "      <th>3</th>\n",
              "      <td>100.2</td>\n",
              "      <td>417.5</td>\n",
              "      <td>182.5</td>\n",
              "      <td>617.9</td>\n",
              "      <td>253.883681</td>\n",
              "      <td>99.359810</td>\n",
              "      <td>52.692461</td>\n",
              "      <td>19.352838</td>\n",
              "      <td>375.747848</td>\n",
              "      <td>145.804519</td>\n",
              "      <td>77.984843</td>\n",
              "      <td>28.642201</td>\n",
              "      <td>110.979094</td>\n",
              "      <td>44.896204</td>\n",
              "      <td>23.033232</td>\n",
              "      <td>8.459624</td>\n",
              "    </tr>\n",
              "  </tbody>\n",
              "</table>\n",
              "</div>\n",
              "      <button class=\"colab-df-convert\" onclick=\"convertToInteractive('df-e255a8ff-0800-4e49-b0b8-1671cb2dcd87')\"\n",
              "              title=\"Convert this dataframe to an interactive table.\"\n",
              "              style=\"display:none;\">\n",
              "        \n",
              "  <svg xmlns=\"http://www.w3.org/2000/svg\" height=\"24px\"viewBox=\"0 0 24 24\"\n",
              "       width=\"24px\">\n",
              "    <path d=\"M0 0h24v24H0V0z\" fill=\"none\"/>\n",
              "    <path d=\"M18.56 5.44l.94 2.06.94-2.06 2.06-.94-2.06-.94-.94-2.06-.94 2.06-2.06.94zm-11 1L8.5 8.5l.94-2.06 2.06-.94-2.06-.94L8.5 2.5l-.94 2.06-2.06.94zm10 10l.94 2.06.94-2.06 2.06-.94-2.06-.94-.94-2.06-.94 2.06-2.06.94z\"/><path d=\"M17.41 7.96l-1.37-1.37c-.4-.4-.92-.59-1.43-.59-.52 0-1.04.2-1.43.59L10.3 9.45l-7.72 7.72c-.78.78-.78 2.05 0 2.83L4 21.41c.39.39.9.59 1.41.59.51 0 1.02-.2 1.41-.59l7.78-7.78 2.81-2.81c.8-.78.8-2.07 0-2.86zM5.41 20L4 18.59l7.72-7.72 1.47 1.35L5.41 20z\"/>\n",
              "  </svg>\n",
              "      </button>\n",
              "      \n",
              "  <style>\n",
              "    .colab-df-container {\n",
              "      display:flex;\n",
              "      flex-wrap:wrap;\n",
              "      gap: 12px;\n",
              "    }\n",
              "\n",
              "    .colab-df-convert {\n",
              "      background-color: #E8F0FE;\n",
              "      border: none;\n",
              "      border-radius: 50%;\n",
              "      cursor: pointer;\n",
              "      display: none;\n",
              "      fill: #1967D2;\n",
              "      height: 32px;\n",
              "      padding: 0 0 0 0;\n",
              "      width: 32px;\n",
              "    }\n",
              "\n",
              "    .colab-df-convert:hover {\n",
              "      background-color: #E2EBFA;\n",
              "      box-shadow: 0px 1px 2px rgba(60, 64, 67, 0.3), 0px 1px 3px 1px rgba(60, 64, 67, 0.15);\n",
              "      fill: #174EA6;\n",
              "    }\n",
              "\n",
              "    [theme=dark] .colab-df-convert {\n",
              "      background-color: #3B4455;\n",
              "      fill: #D2E3FC;\n",
              "    }\n",
              "\n",
              "    [theme=dark] .colab-df-convert:hover {\n",
              "      background-color: #434B5C;\n",
              "      box-shadow: 0px 1px 3px 1px rgba(0, 0, 0, 0.15);\n",
              "      filter: drop-shadow(0px 1px 2px rgba(0, 0, 0, 0.3));\n",
              "      fill: #FFFFFF;\n",
              "    }\n",
              "  </style>\n",
              "\n",
              "      <script>\n",
              "        const buttonEl =\n",
              "          document.querySelector('#df-e255a8ff-0800-4e49-b0b8-1671cb2dcd87 button.colab-df-convert');\n",
              "        buttonEl.style.display =\n",
              "          google.colab.kernel.accessAllowed ? 'block' : 'none';\n",
              "\n",
              "        async function convertToInteractive(key) {\n",
              "          const element = document.querySelector('#df-e255a8ff-0800-4e49-b0b8-1671cb2dcd87');\n",
              "          const dataTable =\n",
              "            await google.colab.kernel.invokeFunction('convertToInteractive',\n",
              "                                                     [key], {});\n",
              "          if (!dataTable) return;\n",
              "\n",
              "          const docLinkHtml = 'Like what you see? Visit the ' +\n",
              "            '<a target=\"_blank\" href=https://colab.research.google.com/notebooks/data_table.ipynb>data table notebook</a>'\n",
              "            + ' to learn more about interactive tables.';\n",
              "          element.innerHTML = '';\n",
              "          dataTable['output_type'] = 'display_data';\n",
              "          await google.colab.output.renderOutput(dataTable, element);\n",
              "          const docLink = document.createElement('div');\n",
              "          docLink.innerHTML = docLinkHtml;\n",
              "          element.appendChild(docLink);\n",
              "        }\n",
              "      </script>\n",
              "    </div>\n",
              "  </div>\n",
              "  "
            ]
          },
          "metadata": {},
          "execution_count": 42
        }
      ]
    }
  ]
}