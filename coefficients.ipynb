{
  "nbformat": 4,
  "nbformat_minor": 0,
  "metadata": {
    "colab": {
      "name": "coefficients.ipynb",
      "provenance": [],
      "authorship_tag": "ABX9TyOdt7QNGvjGhYq1oRiu9k7e",
      "include_colab_link": true
    },
    "kernelspec": {
      "name": "python3",
      "display_name": "Python 3"
    },
    "language_info": {
      "name": "python"
    }
  },
  "cells": [
    {
      "cell_type": "markdown",
      "metadata": {
        "id": "view-in-github",
        "colab_type": "text"
      },
      "source": [
        "<a href=\"https://colab.research.google.com/github/PrzemyslawSarnacki/streetlifting-analysis/blob/main/coefficients.ipynb\" target=\"_parent\"><img src=\"https://colab.research.google.com/assets/colab-badge.svg\" alt=\"Open In Colab\"/></a>"
      ]
    },
    {
      "cell_type": "markdown",
      "source": [
        "<a href=\"https://colab.research.google.com/github/PrzemyslawSarnacki/streetlifting-analysis/blob/master/coefficients.ipynb\" target=\"_parent\">\n",
        "  <img src=\"https://colab.research.google.com/assets/colab-badge.svg\" alt=\"Open In Colab\"/>\n",
        "</a> "
      ],
      "metadata": {
        "id": "RNPMxZTWcEIt"
      }
    },
    {
      "cell_type": "code",
      "source": [
        "import math\n",
        "\n",
        "# calculate allometric scaling score \n",
        "def calculate_as(bodyweight, weight_lifted):\n",
        "  return weight_lifted * bodyweight ** (-2/3)\n",
        "\n",
        "def calculate_wilks(bodyweight, weight_lifted):\n",
        "  result = weight_lifted*500/ (-216.0475144 + bodyweight*16.2606339 + bodyweight ** 2 *-0.002388645 + bodyweight ** 3 * -0.00113732 + bodyweight ** 4 * 7.01863E-06 + bodyweight ** 5 * -1.291E-08)\n",
        "  return result\n",
        "\n",
        "def calculate_isf(bodyweight, weight_lifted):\n",
        "  a = 799.81893\n",
        "  b = 681.45441\n",
        "  c = 0.00614\n",
        "  extra_points = 0\n",
        "  if bodyweight > 95:\n",
        "    extra_points = (bodyweight - 95) *0.5\n",
        "  return (100/(a - b * math.exp(-c * bodyweight))) * weight_lifted + extra_points\n",
        "\n",
        "def calculate_ipf(bodyweight, weight_lifted):\n",
        " a = 1199.72839 \n",
        " b = 1025.18162 \n",
        " c = 0.00921\n",
        " result = (100/(a - b * math.exp(-c * bodyweight))) * weight_lifted\n",
        " return result\n"
      ],
      "metadata": {
        "id": "jYYDYczZcM9D"
      },
      "execution_count": 2,
      "outputs": []
    },
    {
      "cell_type": "code",
      "source": [
        "def find_weight_lifted(score, bodyweight):\n",
        " return score / bodyweight ** (- 2/3)"
      ],
      "metadata": {
        "id": "FHLeH74Hm5pT"
      },
      "execution_count": 8,
      "outputs": []
    },
    {
      "cell_type": "code",
      "source": [
        "find_weight_lifted(54.14, 123)"
      ],
      "metadata": {
        "colab": {
          "base_uri": "https://localhost:8080/"
        },
        "id": "7A-Ypj4RoIWs",
        "outputId": "e3d1b679-e84b-4a39-9d81-765688f3a85a"
      },
      "execution_count": 9,
      "outputs": [
        {
          "output_type": "execute_result",
          "data": {
            "text/plain": [
              "1339.023890753689"
            ]
          },
          "metadata": {},
          "execution_count": 9
        }
      ]
    },
    {
      "cell_type": "code",
      "source": [
        "import pandas as pd\n",
        "\n",
        "wilks = []\n",
        "ipf  = []\n",
        "isf = []\n",
        "bodyweight = []\n",
        "rows = []\n",
        "for b in range(50, 120):\n",
        "  isf = (calculate_isf(b, find_weight_lifted(54.14, b)))\n",
        "  ipf = (calculate_ipf(b, find_weight_lifted(54.14, b)))\n",
        "  wilks = (calculate_wilks(b, find_weight_lifted(54.14, b)))\n",
        "\n",
        "  rows.append([b, wilks, isf, ipf])\n",
        "\n",
        "\n",
        "\n",
        "df = pd.DataFrame(rows, columns=[\"bodyweight\", \"wilks\", \"isf\", \"ipf\"])\n"
      ],
      "metadata": {
        "colab": {
          "base_uri": "https://localhost:8080/",
          "height": 424
        },
        "id": "PB62V0jRpKlF",
        "outputId": "0adf8239-275f-4818-be31-04772e1e6161"
      },
      "execution_count": 20,
      "outputs": [
        {
          "output_type": "execute_result",
          "data": {
            "text/plain": [
              "    bodyweight       wilks         isf         ipf\n",
              "0           50  751.814484  246.156329  132.904814\n",
              "1           51  745.760658  246.889561  133.241846\n",
              "2           52  740.138084  247.602406  133.573394\n",
              "3           53  734.917410  248.296034  133.899890\n",
              "4           54  730.072125  248.971544  134.221733\n",
              "..         ...         ...         ...         ...\n",
              "65         115  743.927498  286.241522  151.651839\n",
              "66         116  746.531531  287.111870  151.943180\n",
              "67         117  749.168696  287.981873  152.235135\n",
              "68         118  751.837532  288.851573  152.527708\n",
              "69         119  754.536589  289.721006  152.820901\n",
              "\n",
              "[70 rows x 4 columns]"
            ],
            "text/html": [
              "\n",
              "  <div id=\"df-32b7f68a-b26d-4c55-8066-c1d0edf6d8f7\">\n",
              "    <div class=\"colab-df-container\">\n",
              "      <div>\n",
              "<style scoped>\n",
              "    .dataframe tbody tr th:only-of-type {\n",
              "        vertical-align: middle;\n",
              "    }\n",
              "\n",
              "    .dataframe tbody tr th {\n",
              "        vertical-align: top;\n",
              "    }\n",
              "\n",
              "    .dataframe thead th {\n",
              "        text-align: right;\n",
              "    }\n",
              "</style>\n",
              "<table border=\"1\" class=\"dataframe\">\n",
              "  <thead>\n",
              "    <tr style=\"text-align: right;\">\n",
              "      <th></th>\n",
              "      <th>bodyweight</th>\n",
              "      <th>wilks</th>\n",
              "      <th>isf</th>\n",
              "      <th>ipf</th>\n",
              "    </tr>\n",
              "  </thead>\n",
              "  <tbody>\n",
              "    <tr>\n",
              "      <th>0</th>\n",
              "      <td>50</td>\n",
              "      <td>751.814484</td>\n",
              "      <td>246.156329</td>\n",
              "      <td>132.904814</td>\n",
              "    </tr>\n",
              "    <tr>\n",
              "      <th>1</th>\n",
              "      <td>51</td>\n",
              "      <td>745.760658</td>\n",
              "      <td>246.889561</td>\n",
              "      <td>133.241846</td>\n",
              "    </tr>\n",
              "    <tr>\n",
              "      <th>2</th>\n",
              "      <td>52</td>\n",
              "      <td>740.138084</td>\n",
              "      <td>247.602406</td>\n",
              "      <td>133.573394</td>\n",
              "    </tr>\n",
              "    <tr>\n",
              "      <th>3</th>\n",
              "      <td>53</td>\n",
              "      <td>734.917410</td>\n",
              "      <td>248.296034</td>\n",
              "      <td>133.899890</td>\n",
              "    </tr>\n",
              "    <tr>\n",
              "      <th>4</th>\n",
              "      <td>54</td>\n",
              "      <td>730.072125</td>\n",
              "      <td>248.971544</td>\n",
              "      <td>134.221733</td>\n",
              "    </tr>\n",
              "    <tr>\n",
              "      <th>...</th>\n",
              "      <td>...</td>\n",
              "      <td>...</td>\n",
              "      <td>...</td>\n",
              "      <td>...</td>\n",
              "    </tr>\n",
              "    <tr>\n",
              "      <th>65</th>\n",
              "      <td>115</td>\n",
              "      <td>743.927498</td>\n",
              "      <td>286.241522</td>\n",
              "      <td>151.651839</td>\n",
              "    </tr>\n",
              "    <tr>\n",
              "      <th>66</th>\n",
              "      <td>116</td>\n",
              "      <td>746.531531</td>\n",
              "      <td>287.111870</td>\n",
              "      <td>151.943180</td>\n",
              "    </tr>\n",
              "    <tr>\n",
              "      <th>67</th>\n",
              "      <td>117</td>\n",
              "      <td>749.168696</td>\n",
              "      <td>287.981873</td>\n",
              "      <td>152.235135</td>\n",
              "    </tr>\n",
              "    <tr>\n",
              "      <th>68</th>\n",
              "      <td>118</td>\n",
              "      <td>751.837532</td>\n",
              "      <td>288.851573</td>\n",
              "      <td>152.527708</td>\n",
              "    </tr>\n",
              "    <tr>\n",
              "      <th>69</th>\n",
              "      <td>119</td>\n",
              "      <td>754.536589</td>\n",
              "      <td>289.721006</td>\n",
              "      <td>152.820901</td>\n",
              "    </tr>\n",
              "  </tbody>\n",
              "</table>\n",
              "<p>70 rows × 4 columns</p>\n",
              "</div>\n",
              "      <button class=\"colab-df-convert\" onclick=\"convertToInteractive('df-32b7f68a-b26d-4c55-8066-c1d0edf6d8f7')\"\n",
              "              title=\"Convert this dataframe to an interactive table.\"\n",
              "              style=\"display:none;\">\n",
              "        \n",
              "  <svg xmlns=\"http://www.w3.org/2000/svg\" height=\"24px\"viewBox=\"0 0 24 24\"\n",
              "       width=\"24px\">\n",
              "    <path d=\"M0 0h24v24H0V0z\" fill=\"none\"/>\n",
              "    <path d=\"M18.56 5.44l.94 2.06.94-2.06 2.06-.94-2.06-.94-.94-2.06-.94 2.06-2.06.94zm-11 1L8.5 8.5l.94-2.06 2.06-.94-2.06-.94L8.5 2.5l-.94 2.06-2.06.94zm10 10l.94 2.06.94-2.06 2.06-.94-2.06-.94-.94-2.06-.94 2.06-2.06.94z\"/><path d=\"M17.41 7.96l-1.37-1.37c-.4-.4-.92-.59-1.43-.59-.52 0-1.04.2-1.43.59L10.3 9.45l-7.72 7.72c-.78.78-.78 2.05 0 2.83L4 21.41c.39.39.9.59 1.41.59.51 0 1.02-.2 1.41-.59l7.78-7.78 2.81-2.81c.8-.78.8-2.07 0-2.86zM5.41 20L4 18.59l7.72-7.72 1.47 1.35L5.41 20z\"/>\n",
              "  </svg>\n",
              "      </button>\n",
              "      \n",
              "  <style>\n",
              "    .colab-df-container {\n",
              "      display:flex;\n",
              "      flex-wrap:wrap;\n",
              "      gap: 12px;\n",
              "    }\n",
              "\n",
              "    .colab-df-convert {\n",
              "      background-color: #E8F0FE;\n",
              "      border: none;\n",
              "      border-radius: 50%;\n",
              "      cursor: pointer;\n",
              "      display: none;\n",
              "      fill: #1967D2;\n",
              "      height: 32px;\n",
              "      padding: 0 0 0 0;\n",
              "      width: 32px;\n",
              "    }\n",
              "\n",
              "    .colab-df-convert:hover {\n",
              "      background-color: #E2EBFA;\n",
              "      box-shadow: 0px 1px 2px rgba(60, 64, 67, 0.3), 0px 1px 3px 1px rgba(60, 64, 67, 0.15);\n",
              "      fill: #174EA6;\n",
              "    }\n",
              "\n",
              "    [theme=dark] .colab-df-convert {\n",
              "      background-color: #3B4455;\n",
              "      fill: #D2E3FC;\n",
              "    }\n",
              "\n",
              "    [theme=dark] .colab-df-convert:hover {\n",
              "      background-color: #434B5C;\n",
              "      box-shadow: 0px 1px 3px 1px rgba(0, 0, 0, 0.15);\n",
              "      filter: drop-shadow(0px 1px 2px rgba(0, 0, 0, 0.3));\n",
              "      fill: #FFFFFF;\n",
              "    }\n",
              "  </style>\n",
              "\n",
              "      <script>\n",
              "        const buttonEl =\n",
              "          document.querySelector('#df-32b7f68a-b26d-4c55-8066-c1d0edf6d8f7 button.colab-df-convert');\n",
              "        buttonEl.style.display =\n",
              "          google.colab.kernel.accessAllowed ? 'block' : 'none';\n",
              "\n",
              "        async function convertToInteractive(key) {\n",
              "          const element = document.querySelector('#df-32b7f68a-b26d-4c55-8066-c1d0edf6d8f7');\n",
              "          const dataTable =\n",
              "            await google.colab.kernel.invokeFunction('convertToInteractive',\n",
              "                                                     [key], {});\n",
              "          if (!dataTable) return;\n",
              "\n",
              "          const docLinkHtml = 'Like what you see? Visit the ' +\n",
              "            '<a target=\"_blank\" href=https://colab.research.google.com/notebooks/data_table.ipynb>data table notebook</a>'\n",
              "            + ' to learn more about interactive tables.';\n",
              "          element.innerHTML = '';\n",
              "          dataTable['output_type'] = 'display_data';\n",
              "          await google.colab.output.renderOutput(dataTable, element);\n",
              "          const docLink = document.createElement('div');\n",
              "          docLink.innerHTML = docLinkHtml;\n",
              "          element.appendChild(docLink);\n",
              "        }\n",
              "      </script>\n",
              "    </div>\n",
              "  </div>\n",
              "  "
            ]
          },
          "metadata": {},
          "execution_count": 20
        }
      ]
    },
    {
      "cell_type": "code",
      "source": [
        ""
      ],
      "metadata": {
        "id": "Q8OTuPm4ox7M"
      },
      "execution_count": null,
      "outputs": []
    }
  ]
}